{
 "cells": [
  {
   "cell_type": "code",
   "execution_count": 1,
   "metadata": {
    "id": "geh64jrD6VHb"
   },
   "outputs": [],
   "source": [
    "import pandas as pd\n",
    "import numpy as np\n",
    "import matplotlib.pyplot as plt\n",
    "from collections import Counter\n",
    "import math"
   ]
  },
  {
   "cell_type": "code",
   "execution_count": 5,
   "metadata": {
    "colab": {
     "base_uri": "https://localhost:8080/"
    },
    "id": "pLZDYbpv9Yws",
    "outputId": "7016e32e-9bc4-4d31-ccd4-e50be2185474"
   },
   "outputs": [
    {
     "name": "stdout",
     "output_type": "stream",
     "text": [
      "Original: peter piper picked a peck of pickled peppers\n",
      "Encoded: 01111000101111000110011001011111000110011001101010111110000110000111100111110101011110001000010111001100110101011001101110000110011110101111100000111\n",
      "Decoded: peter piper picked a peck of pickled peppers\n",
      "Average Bits per Character: 3.3863636363636362\n",
      "\n",
      "Original: she sells seashells by the seashore\n",
      "Encoded: 010011111100111110010001110011110001010011111001000111010100101011101011000111111001111000101001101110000111\n",
      "Decoded: she sells seashells by the seashore\n",
      "Average Bits per Character: 3.085714285714286\n",
      "\n"
     ]
    }
   ],
   "source": [
    "from collections import Counter\n",
    "\n",
    "class Node:\n",
    "    def __init__(self, char=None, freq=0):\n",
    "        self.char = char\n",
    "        self.freq = freq\n",
    "        self.left = None\n",
    "        self.right = None\n",
    "\n",
    "def build_huffman_tree(text):\n",
    "    frequency = Counter(text)\n",
    "    nodes = [Node(char, freq) for char, freq in frequency.items()]\n",
    "\n",
    "    while len(nodes) > 1:\n",
    "        nodes.sort(key=lambda x: x.freq)\n",
    "        left = nodes.pop(0)\n",
    "        right = nodes.pop(0)\n",
    "        merged = Node(freq=left.freq + right.freq)\n",
    "        merged.left = left\n",
    "        merged.right = right\n",
    "        nodes.append(merged)\n",
    "\n",
    "    return nodes[0]\n",
    "\n",
    "def generate_codes(node, current_code='', code_table=None):\n",
    "    if code_table is None:\n",
    "        code_table = {}\n",
    "    if node is not None:\n",
    "        if node.char is not None:\n",
    "            code_table[node.char] = current_code\n",
    "        generate_codes(node.left, current_code + '0', code_table)\n",
    "        generate_codes(node.right, current_code + '1', code_table)\n",
    "    return code_table\n",
    "\n",
    "def encode_text(text, code_table):\n",
    "    return ''.join(code_table[char] for char in text)\n",
    "\n",
    "def decode_text(encoded_text, root):\n",
    "    decoded_text = ''\n",
    "    current_node = root\n",
    "    for bit in encoded_text:\n",
    "        if bit == '0':\n",
    "            current_node = current_node.left\n",
    "        else:\n",
    "            current_node = current_node.right\n",
    "        if current_node.char is not None:\n",
    "            decoded_text += current_node.char\n",
    "            current_node = root\n",
    "    return decoded_text\n",
    "\n",
    "def average_bits_per_char(code_table, occurrences):\n",
    "    total_bits = sum(len(code_table[char]) * freq for char, freq in occurrences.items())\n",
    "    total_chars = sum(occurrences.values())\n",
    "    return total_bits / total_chars\n",
    "\n",
    "sentences = [\n",
    "    \"peter piper picked a peck of pickled peppers\",\n",
    "    \"she sells seashells by the seashore\"\n",
    "]\n",
    "\n",
    "for sentence in sentences:\n",
    "    root = build_huffman_tree(sentence)\n",
    "    code_table = generate_codes(root)\n",
    "    occurrences = Counter(sentence)\n",
    "    average_bits = average_bits_per_char(code_table, occurrences)\n",
    "    encoded = encode_text(sentence, code_table)\n",
    "    decoded = decode_text(encoded, root)\n",
    "\n",
    "    print(f\"Original: {sentence}\")\n",
    "    print(f\"Encoded: {encoded}\")\n",
    "    print(f\"Decoded: {decoded}\")\n",
    "    print(f\"Average Bits per Character: {average_bits}\\n\")\n"
   ]
  },
  {
   "cell_type": "code",
   "execution_count": null,
   "metadata": {
    "id": "LGW0OjBEGgoX"
   },
   "outputs": [],
   "source": []
  },
  {
   "cell_type": "code",
   "execution_count": null,
   "metadata": {
    "id": "rVggjvlfGjZj"
   },
   "outputs": [],
   "source": []
  },
  {
   "cell_type": "markdown",
   "metadata": {
    "id": "2-h032iQHWnl"
   },
   "source": []
  }
 ],
 "metadata": {
  "colab": {
   "provenance": []
  },
  "kernelspec": {
   "display_name": "Python 3 (ipykernel)",
   "language": "python",
   "name": "python3"
  },
  "language_info": {
   "codemirror_mode": {
    "name": "ipython",
    "version": 3
   },
   "file_extension": ".py",
   "mimetype": "text/x-python",
   "name": "python",
   "nbconvert_exporter": "python",
   "pygments_lexer": "ipython3",
   "version": "3.10.7"
  }
 },
 "nbformat": 4,
 "nbformat_minor": 1
}
